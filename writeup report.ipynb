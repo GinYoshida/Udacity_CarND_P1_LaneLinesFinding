{
 "cells": [
  {
   "cell_type": "markdown",
   "metadata": {},
   "source": [
    "# **Finding Lane Lines on the Road** \n",
    "\n",
    "**Finding Lane Lines on the Road**\n",
    "\n",
    "The goals / steps of this project are the following:\n",
    "* Make a pipeline that finds lane lines on the road\n",
    "* Reflect on your work in a written report\n",
    "\n",
    "Original file\n",
    "<img src=\"test_images/solidWhiteCurve.jpg\">\n",
    "\n",
    "With my pipeline\n",
    "<img src=\"test_images_output/solidWhiteCurve.jpg\">\n",
    "\n",
    "\n",
    "---\n",
    "\n",
    "### Reflection\n",
    "\n",
    "### 1. Pipeline structure.\n",
    "\n",
    " My pipeline consisted of 6 steps as below.\n",
    "  step1: Apply gray scale\n",
    "  step2: Filer noise\n",
    "  step3: Apply canny transform\n",
    "  step4: Mask unnecessary area\n",
    "  step5: Apply hough lines drawn\n",
    "  step6: Marge image of line and original image\n",
    "\n",
    " In step5, I add modification to original hough to extend the line to the bottom of image.\n",
    " Description of the modification is below.\n",
    " Firstly, categolize origianl \"lines\" into positive slop and negative slop.\n",
    " Then, apply linear approximation for both categolies.\n",
    " Finally, draw both negative and positive line based on this linear approximation.\n",
    "\n",
    "\n",
    "### 2. Identify potential shortcomings with your current pipeline\n",
    "\n",
    "Shortcomings of my pip line are below.\n",
    "a) If all line is categolized into positive or negative line, one of them can not be shown.\n",
    "b) Code was created based on photo and video of straght road. If road condition was changed from straight to strong curv, the line detection will cause problem. \n",
    "\n",
    "### 3. Suggest possible improvements to your pipeline\n",
    "\n",
    " Shortcoming of a) can be solved by turning of parameter of hough.\n",
    " Shortcoming of b) is hard to solve with current my tools, which are based on straight line only. I need more tools to solve this topic."
   ]
  },
  {
   "cell_type": "markdown",
   "metadata": {},
   "source": []
  }
 ],
 "metadata": {
  "kernelspec": {
   "display_name": "Python 3",
   "language": "python",
   "name": "python3"
  },
  "language_info": {
   "codemirror_mode": {
    "name": "ipython",
    "version": 3
   },
   "file_extension": ".py",
   "mimetype": "text/x-python",
   "name": "python",
   "nbconvert_exporter": "python",
   "pygments_lexer": "ipython3",
   "version": "3.6.3"
  }
 },
 "nbformat": 4,
 "nbformat_minor": 2
}
